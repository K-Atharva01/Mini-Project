{
 "cells": [
  {
   "cell_type": "code",
   "execution_count": 4,
   "id": "1f542f0b",
   "metadata": {
    "scrolled": false
   },
   "outputs": [
    {
     "name": "stdout",
     "output_type": "stream",
     "text": [
      "Epoch 1/10\n",
      "468/468 [==============================] - 18s 31ms/step - loss: 1.0158 - accuracy: 0.6414 - val_loss: 0.8420 - val_accuracy: 0.6851\n",
      "Epoch 2/10\n",
      "468/468 [==============================] - 13s 28ms/step - loss: 0.7496 - accuracy: 0.7330 - val_loss: 0.8629 - val_accuracy: 0.6948\n",
      "Epoch 3/10\n",
      "468/468 [==============================] - 13s 28ms/step - loss: 0.6575 - accuracy: 0.7642 - val_loss: 0.8454 - val_accuracy: 0.7002\n",
      "Epoch 4/10\n",
      "468/468 [==============================] - 13s 28ms/step - loss: 0.5833 - accuracy: 0.7886 - val_loss: 0.8362 - val_accuracy: 0.7002\n",
      "Epoch 5/10\n",
      "468/468 [==============================] - 13s 28ms/step - loss: 0.5241 - accuracy: 0.8176 - val_loss: 0.8854 - val_accuracy: 0.7056\n",
      "Epoch 6/10\n",
      "468/468 [==============================] - 13s 28ms/step - loss: 0.4590 - accuracy: 0.8372 - val_loss: 0.9103 - val_accuracy: 0.7140\n",
      "Epoch 7/10\n",
      "468/468 [==============================] - 13s 28ms/step - loss: 0.3960 - accuracy: 0.8587 - val_loss: 0.9544 - val_accuracy: 0.6875\n",
      "Epoch 8/10\n",
      "468/468 [==============================] - 13s 28ms/step - loss: 0.3345 - accuracy: 0.8826 - val_loss: 0.9929 - val_accuracy: 0.7080\n",
      "Epoch 9/10\n",
      "468/468 [==============================] - 13s 28ms/step - loss: 0.2774 - accuracy: 0.9034 - val_loss: 1.0725 - val_accuracy: 0.7020\n",
      "Epoch 10/10\n",
      "468/468 [==============================] - 13s 28ms/step - loss: 0.2161 - accuracy: 0.9271 - val_loss: 1.2497 - val_accuracy: 0.6827\n"
     ]
    }
   ],
   "source": [
    "import hickle as hk\n",
    "import numpy as np\n",
    "import tensorflow as tf\n",
    "from tensorflow.keras.applications.inception_v3 import InceptionV3\n",
    "from tensorflow.keras.preprocessing.image import ImageDataGenerator\n",
    "from tensorflow.keras.models import Sequential\n",
    "from tensorflow.keras.layers import Dense, GlobalAveragePooling2D\n",
    "\n",
    "# Load the pre-trained InceptionV3 model\n",
    "base_model = InceptionV3(weights='imagenet', include_top=False, input_shape=(100, 100, 3))\n",
    "\n",
    "# Freeze the weights of the pre-trained layers\n",
    "for layer in base_model.layers:\n",
    "    layer.trainable = False\n",
    "\n",
    "# Add your own classification layers on top of the pre-trained model\n",
    "model = Sequential()\n",
    "model.add(base_model)\n",
    "model.add(GlobalAveragePooling2D())\n",
    "model.add(Dense(128, activation='relu'))\n",
    "model.add(Dense(7, activation='softmax'))\n",
    "\n",
    "# Compile the model\n",
    "model.compile(optimizer='adam', loss='categorical_crossentropy', metrics=['accuracy'])\n",
    "\n",
    "# Load the input and output data\n",
    "X = hk.load('input.hkl') / 255.0  # normalize the input data\n",
    "Y = hk.load('output.hkl')\n",
    "\n",
    "# Convert the target labels to one-hot encoding\n",
    "Y = tf.keras.utils.to_categorical(Y)\n",
    "\n",
    "# Split the data into training and validation sets\n",
    "train_datagen = ImageDataGenerator(validation_split=0.1)\n",
    "train_generator = train_datagen.flow(X, Y, batch_size=32, subset='training')\n",
    "val_generator = train_datagen.flow(X, Y, batch_size=32, subset='validation')\n",
    "\n",
    "# Train the model\n",
    "model.fit(train_generator, epochs=10, validation_data=val_generator)\n",
    "\n",
    "# Save the trained model\n",
    "model.save('my_model.h5')\n"
   ]
  },
  {
   "cell_type": "code",
   "execution_count": null,
   "id": "28deb5d4",
   "metadata": {},
   "outputs": [],
   "source": []
  }
 ],
 "metadata": {
  "kernelspec": {
   "display_name": "Python 3 (ipykernel)",
   "language": "python",
   "name": "python3"
  },
  "language_info": {
   "codemirror_mode": {
    "name": "ipython",
    "version": 3
   },
   "file_extension": ".py",
   "mimetype": "text/x-python",
   "name": "python",
   "nbconvert_exporter": "python",
   "pygments_lexer": "ipython3",
   "version": "3.9.13"
  }
 },
 "nbformat": 4,
 "nbformat_minor": 5
}
