{
 "cells": [
  {
   "cell_type": "code",
   "execution_count": 4,
   "id": "54d4c2a3",
   "metadata": {},
   "outputs": [],
   "source": [
    "import numpy as np\n",
    "import pickle as pk\n",
    "import hickle as hk\n",
    "import cv2\n",
    "import os\n",
    "import random\n",
    "import matplotlib.pyplot as plt"
   ]
  },
  {
   "cell_type": "code",
   "execution_count": 5,
   "id": "4824af33",
   "metadata": {},
   "outputs": [],
   "source": [
    "DIR = r'D:\\Mini Project SE\\Animals'\n",
    "TYP = ['cat', 'chicken','cow', 'dog', 'elephant','horse','squirrel']"
   ]
  },
  {
   "cell_type": "code",
   "execution_count": 6,
   "id": "ede7eddc",
   "metadata": {},
   "outputs": [],
   "source": [
    "data = []\n",
    "\n",
    "for typ in TYP: \n",
    "    folder = os.path.join(DIR,typ) \n",
    "    label = TYP.index(typ) \n",
    "    for img in os.listdir(folder): \n",
    "        img_path = os.path.join(folder,img) \n",
    "        img_arr = cv2.imread(img_path) \n",
    "        img_arr = cv2.resize(img_arr,(100,100))\n",
    "        data.append([img_arr,label])"
   ]
  },
  {
   "cell_type": "code",
   "execution_count": 7,
   "id": "6471fc61",
   "metadata": {},
   "outputs": [
    {
     "data": {
      "text/plain": [
       "16619"
      ]
     },
     "execution_count": 7,
     "metadata": {},
     "output_type": "execute_result"
    }
   ],
   "source": [
    "len(data)"
   ]
  },
  {
   "cell_type": "code",
   "execution_count": 8,
   "id": "25a73243",
   "metadata": {},
   "outputs": [],
   "source": [
    "random.shuffle(data)"
   ]
  },
  {
   "cell_type": "code",
   "execution_count": 9,
   "id": "0f95645c",
   "metadata": {},
   "outputs": [],
   "source": [
    "X = []\n",
    "Y = []\n",
    "\n",
    "for features, label in data:\n",
    "    X.append(features)\n",
    "    Y.append(label)"
   ]
  },
  {
   "cell_type": "code",
   "execution_count": 10,
   "id": "3bbea45f",
   "metadata": {},
   "outputs": [],
   "source": [
    "X = np.array(X,dtype = np.float32)\n",
    "Y = np.array(Y)"
   ]
  },
  {
   "cell_type": "code",
   "execution_count": 11,
   "id": "c57f6dc5",
   "metadata": {},
   "outputs": [],
   "source": [
    "hk.dump(X, 'input.hkl', mode='w')\n",
    "hk.dump(Y, 'output.hkl', mode='w')"
   ]
  },
  {
   "cell_type": "code",
   "execution_count": null,
   "id": "8ab0a87b",
   "metadata": {},
   "outputs": [],
   "source": []
  }
 ],
 "metadata": {
  "kernelspec": {
   "display_name": "Python 3 (ipykernel)",
   "language": "python",
   "name": "python3"
  },
  "language_info": {
   "codemirror_mode": {
    "name": "ipython",
    "version": 3
   },
   "file_extension": ".py",
   "mimetype": "text/x-python",
   "name": "python",
   "nbconvert_exporter": "python",
   "pygments_lexer": "ipython3",
   "version": "3.9.13"
  }
 },
 "nbformat": 4,
 "nbformat_minor": 5
}
